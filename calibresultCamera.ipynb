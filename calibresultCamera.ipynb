{
 "cells": [
  {
   "cell_type": "code",
   "execution_count": 1,
   "metadata": {
    "scrolled": false
   },
   "outputs": [
    {
     "name": "stderr",
     "output_type": "stream",
     "text": [
      "100%|██████████████████████████████████████████████████████████████████████████████████| 33/33 [00:06<00:00,  4.87it/s]\n"
     ]
    },
    {
     "name": "stdout",
     "output_type": "stream",
     "text": [
      "ret: 0.3842940149003152\n",
      "mtx:\n",
      " [[3.12757530e+03 0.00000000e+00 1.02648203e+03]\n",
      " [0.00000000e+00 3.12744985e+03 5.06658577e+02]\n",
      " [0.00000000e+00 0.00000000e+00 1.00000000e+00]]\n",
      "dist:\n",
      " [[-5.32539241e-02  1.97503055e+01 -1.36881263e-04  3.43796125e-03\n",
      "  -5.23363192e+02]]\n"
     ]
    },
    {
     "data": {
      "text/plain": [
       "True"
      ]
     },
     "execution_count": 1,
     "metadata": {},
     "output_type": "execute_result"
    }
   ],
   "source": [
    "import cv2\n",
    "import numpy as np\n",
    "import glob\n",
    "from tqdm import tqdm\n",
    "\n",
    "#设置阈值\n",
    "criteria = (cv2.TERM_CRITERIA_EPS + cv2.TERM_CRITERIA_MAX_ITER, 30, 0.001)\n",
    "#预设棋盘格角点数\n",
    "w = 6\n",
    "h = 9\n",
    "#角点世界坐标，以mm为单位\n",
    "worldp= np.zeros((w*h,3), np.float32)\n",
    "worldp[:,:2] = np.mgrid[0:w,0:h].T.reshape(-1,2)*20\n",
    "\n",
    "# 储存棋盘格角点的世界坐标和图像坐标对\n",
    "worldpoints = [] # 在世界坐标系中的三维点\n",
    "imgpoints = [] # 在图像平面的二维点\n",
    "\n",
    "gray = None\n",
    "images = glob.glob('pic6/*.jpg')\n",
    "#用于文件命名\n",
    "#ii = 0\n",
    "for fname in tqdm(images):\n",
    "\n",
    "    img = cv2.imread(fname)\n",
    "\n",
    "    gray = cv2.cvtColor(img,cv2.COLOR_BGR2GRAY)\n",
    "    # 调用findChessboardCorners查找角点\n",
    "    ret, corners = cv2.findChessboardCorners(gray, (w,h),None)\n",
    "    # 如果找到角点组，保存起来\n",
    "    if ret == True:\n",
    "        cv2.cornerSubPix(gray,corners,(11,11),(-1,-1),criteria)\n",
    "        worldpoints.append(worldp)\n",
    "        imgpoints.append(corners)\n",
    "        \n",
    "        # 将角点绘制在棋盘格上\n",
    "        #cv2.drawChessboardCorners(img, (w,h), corners, ret)\n",
    "\n",
    "        #cv2.imwrite('test/calibresult_'+str(ii)+'.jpg',img)\n",
    "        #cv2.waitKey(1)\n",
    "        ##ii+=1\n",
    "        \n",
    "cv2.destroyAllWindows()\n",
    "#标定相机，获取内参矩阵和畸变系数\n",
    "ret, mtx, dist, _, _ = cv2.calibrateCamera(worldpoints, imgpoints, gray.shape[::-1], None, None)\n",
    "print((\"ret:\"),ret)\n",
    "print((\"mtx:\\n\"),mtx)        # 内参数矩阵\n",
    "print((\"dist:\\n\"),dist)      # 畸变系数   distortion cofficients = (k_1,k_2,p_1,p_2,k_3)\n",
    "\n",
    "# 反畸变\n",
    "img_test = cv2.imread(\"test_pic.jpg\")\n",
    "h,w = img_test.shape[:2]\n",
    "newcameramtx, roi=cv2.getOptimalNewCameraMatrix(mtx,dist,(w,h),0,(w,h)) # 自由比例参数\n",
    "img_dst = cv2.undistort(img_test, mtx, dist, None, newcameramtx)\n",
    "# 根据兴趣区域裁切图片\n",
    "x,y,w,h = roi\n",
    "img_dst = img_dst[y:y+h, x:x+w]\n",
    "cv2.imwrite('calibresult.jpg',img_dst)"
   ]
  }
 ],
 "metadata": {
  "kernelspec": {
   "display_name": "cvenv37",
   "language": "python",
   "name": "cvenv37"
  },
  "language_info": {
   "codemirror_mode": {
    "name": "ipython",
    "version": 3
   },
   "file_extension": ".py",
   "mimetype": "text/x-python",
   "name": "python",
   "nbconvert_exporter": "python",
   "pygments_lexer": "ipython3",
   "version": "3.7.9"
  }
 },
 "nbformat": 4,
 "nbformat_minor": 2
}
